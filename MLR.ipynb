{
 "cells": [
  {
   "attachments": {},
   "cell_type": "markdown",
   "metadata": {},
   "source": [
    "Assumptions for Linear Regression\n",
    "\n",
    "1) Linearity exists between Y and each X\n",
    "\n",
    "2) Homoscendasticiy ( Equal Variance) Variance dependent on independent variable\n",
    "\n",
    "3) Multivariate Normality (Normality of error distribution)\n",
    "\n",
    "4) Independence (no autocorrelation) No pattern in the data should be there(rows are not independent) Eg Stock market - prev prices affect future and so on\n",
    "\n",
    "5) Lack of Multicollinearity (Predictors are not correlated with each other )"
   ]
  },
  {
   "cell_type": "code",
   "execution_count": null,
   "metadata": {},
   "outputs": [],
   "source": []
  }
 ],
 "metadata": {
  "language_info": {
   "name": "python"
  },
  "orig_nbformat": 4
 },
 "nbformat": 4,
 "nbformat_minor": 2
}
